{
 "cells": [
  {
   "cell_type": "code",
   "execution_count": 1,
   "metadata": {},
   "outputs": [
    {
     "name": "stdout",
     "output_type": "stream",
     "text": [
      "0.5\n",
      "0.3333333333333333\n",
      "0.25\n",
      "0.2\n",
      "0.16666666666666666\n",
      "0.14285714285714285\n",
      "0.125\n",
      "0.1111111111111111\n",
      "0.1\n"
     ]
    }
   ],
   "source": [
    "for i in range(2,11):\n",
    "    print(1/i)"
   ]
  },
  {
   "cell_type": "code",
   "execution_count": 3,
   "metadata": {},
   "outputs": [
    {
     "name": "stdout",
     "output_type": "stream",
     "text": [
      "7\n"
     ]
    }
   ],
   "source": [
    "import math\n",
    "a=7.89654284\n",
    "print(math.trunc(a))"
   ]
  },
  {
   "cell_type": "code",
   "execution_count": 4,
   "metadata": {},
   "outputs": [
    {
     "name": "stdout",
     "output_type": "stream",
     "text": [
      "8\n"
     ]
    }
   ],
   "source": [
    "import math\n",
    "a=7.89654284\n",
    "print(math.ceil(a))"
   ]
  },
  {
   "cell_type": "code",
   "execution_count": 5,
   "metadata": {},
   "outputs": [
    {
     "name": "stdout",
     "output_type": "stream",
     "text": [
      "7\n"
     ]
    }
   ],
   "source": [
    "import math\n",
    "a=7.89654284\n",
    "print(math.floor(a))"
   ]
  },
  {
   "cell_type": "code",
   "execution_count": 6,
   "metadata": {},
   "outputs": [
    {
     "name": "stdout",
     "output_type": "stream",
     "text": [
      "7.90\n"
     ]
    }
   ],
   "source": [
    "import math\n",
    "a=7.89654284\n",
    "print('%.2f'%a)"
   ]
  },
  {
   "cell_type": "code",
   "execution_count": 7,
   "metadata": {},
   "outputs": [
    {
     "name": "stdout",
     "output_type": "stream",
     "text": [
      "7.90\n"
     ]
    }
   ],
   "source": [
    "a=7.89654284\n",
    "print (\"{0:.2f}\".format(a)) "
   ]
  },
  {
   "cell_type": "code",
   "execution_count": 11,
   "metadata": {},
   "outputs": [
    {
     "name": "stdout",
     "output_type": "stream",
     "text": [
      "7.83\n"
     ]
    }
   ],
   "source": [
    "a=7.82654284\n",
    "print (round(a,2))"
   ]
  },
  {
   "cell_type": "code",
   "execution_count": 15,
   "metadata": {},
   "outputs": [
    {
     "name": "stdout",
     "output_type": "stream",
     "text": [
      "Enter a number:-4\n",
      "Try again with a positive number.\n"
     ]
    }
   ],
   "source": [
    "n=int(input(\"Enter a number:\"))\n",
    "if(n<0):\n",
    "    print(\"Try again with a positive number.\")\n",
    "else:\n",
    "    while(n>=0):\n",
    "        print(n)\n",
    "        n=n-1"
   ]
  },
  {
   "cell_type": "code",
   "execution_count": 35,
   "metadata": {},
   "outputs": [
    {
     "name": "stdout",
     "output_type": "stream",
     "text": [
      "Enter a Base value:2\n",
      "Enter a Expo value:10\n",
      "Enter result is : 1024\n"
     ]
    }
   ],
   "source": [
    "b=int(input(\"Enter a Base value:\"))\n",
    "e=int(input(\"Enter a Expo value:\"))\n",
    "r=1\n",
    "for i in range(0,e):\n",
    "    r=r*b\n",
    "print(\"Enter result is :\",r)"
   ]
  },
  {
   "cell_type": "code",
   "execution_count": 20,
   "metadata": {},
   "outputs": [
    {
     "name": "stdout",
     "output_type": "stream",
     "text": [
      "Enter a number divisible by 2 :7\n",
      "Enter anumber divisible by 2 :9\n",
      "Enter anumber divisible by 2 :5\n",
      "Enter anumber divisible by 2 :3\n",
      "Enter anumber divisible by 2 :1\n",
      "Enter anumber divisible by 2 :1\n",
      "Enter anumber divisible by 2 :3\n",
      "Enter anumber divisible by 2 :5\n",
      "Enter anumber divisible by 2 :7\n",
      "Enter anumber divisible by 2 :9\n",
      "Enter anumber divisible by 2 :6\n",
      "You entered a correct number.\n"
     ]
    }
   ],
   "source": [
    "n=int(input(\"Enter a number divisible by 2 :\"))\n",
    "if(n%2!=0):\n",
    "    while(n%2):\n",
    "        n=int(input(\"Enter anumber divisible by 2 :\"))\n",
    "print(\"You entered a correct number.\")"
   ]
  },
  {
   "cell_type": "code",
   "execution_count": 23,
   "metadata": {},
   "outputs": [
    {
     "name": "stdout",
     "output_type": "stream",
     "text": [
      "Both are equal.\n"
     ]
    }
   ],
   "source": [
    "def max(a,b):\n",
    "    if(a==b):\n",
    "        print(\"Both are equal.\")\n",
    "    elif(a>b):\n",
    "        print(a,\"is greater\")\n",
    "    else:\n",
    "        print(b,\"is greater\")\n",
    "        \n",
    "max(1,1)"
   ]
  },
  {
   "cell_type": "code",
   "execution_count": 28,
   "metadata": {},
   "outputs": [
    {
     "name": "stdout",
     "output_type": "stream",
     "text": [
      "9 is greatest.\n"
     ]
    }
   ],
   "source": [
    "def max_of_three(a,b,c):\n",
    "    if(a==b==c):\n",
    "        print(\"All are equal.\")\n",
    "    if(a>b):\n",
    "        if(a>c):\n",
    "            print(a,\" is greatest.\")\n",
    "        else:\n",
    "            print(c,\"is greatest.\")\n",
    "    else:\n",
    "        if(b>a):\n",
    "            if(b>c):\n",
    "                print(b,\" is greatest.\")\n",
    "            else:\n",
    "                print(c,\"is greatest.\")\n",
    "max_of_three(4,6,9)"
   ]
  },
  {
   "cell_type": "code",
   "execution_count": 36,
   "metadata": {},
   "outputs": [
    {
     "name": "stdout",
     "output_type": "stream",
     "text": [
      "12\n"
     ]
    }
   ],
   "source": [
    "a=\"saurav sagar\"\n",
    "c=0\n",
    "for j in a:\n",
    "    c=c+1\n",
    "print(c)\n"
   ]
  },
  {
   "cell_type": "code",
   "execution_count": 44,
   "metadata": {},
   "outputs": [
    {
     "data": {
      "text/plain": [
       "True"
      ]
     },
     "execution_count": 44,
     "metadata": {},
     "output_type": "execute_result"
    }
   ],
   "source": [
    "def chq_vowel(c):\n",
    "    c=c.lower()\n",
    "    vow=['a','e','i','o','u']\n",
    "    if c in vow:\n",
    "        return True\n",
    "    else:\n",
    "        return False\n",
    "chq_vowel('O')"
   ]
  },
  {
   "cell_type": "code",
   "execution_count": 55,
   "metadata": {},
   "outputs": [
    {
     "name": "stdout",
     "output_type": "stream",
     "text": [
      " tothohisos isos fofunon\n"
     ]
    }
   ],
   "source": [
    "s=\"this is fun\"\n",
    "ns=\" \"\n",
    "vow=['a','e','i','o','u']\n",
    "l=len(s)\n",
    "for i in range(0,l):\n",
    "    if s[i] in vow:\n",
    "        ns=ns+s[i]\n",
    "    elif(s[i]==' '):\n",
    "        ns=ns+s[i]\n",
    "    else:\n",
    "        ns=ns+s[i]+'o'+s[i]\n",
    "print(ns)"
   ]
  },
  {
   "cell_type": "code",
   "execution_count": 59,
   "metadata": {},
   "outputs": [
    {
     "data": {
      "text/plain": [
       "10"
      ]
     },
     "execution_count": 59,
     "metadata": {},
     "output_type": "execute_result"
    }
   ],
   "source": [
    "def addition(arr1):\n",
    "    l=len(arr1)\n",
    "    s=0\n",
    "    for i in range(0,l):\n",
    "        s=s+arr1[i]\n",
    "    return s\n",
    "\n",
    "def multiply(arr1):\n",
    "    l=len(arr1)\n",
    "    s=1\n",
    "    for i in range(0,l):\n",
    "        s=s*arr1[i]\n",
    "    return s\n",
    "a=[1,2,3,4]\n",
    "addition(a)"
   ]
  },
  {
   "cell_type": "code",
   "execution_count": 60,
   "metadata": {},
   "outputs": [
    {
     "data": {
      "text/plain": [
       "24"
      ]
     },
     "execution_count": 60,
     "metadata": {},
     "output_type": "execute_result"
    }
   ],
   "source": [
    "multiply(a)"
   ]
  },
  {
   "cell_type": "code",
   "execution_count": 66,
   "metadata": {},
   "outputs": [
    {
     "data": {
      "text/plain": [
       "'retaeB ma I'"
      ]
     },
     "execution_count": 66,
     "metadata": {},
     "output_type": "execute_result"
    }
   ],
   "source": [
    "def reverse(s):\n",
    "    l=len(s)\n",
    "    ns=\"\"\n",
    "    for i in range(l-1,-1,-1):\n",
    "        ns=ns+s[i]\n",
    "    return ns\n",
    "\n",
    "st=\"I am Beater\"\n",
    "reverse(st)"
   ]
  },
  {
   "cell_type": "code",
   "execution_count": 72,
   "metadata": {},
   "outputs": [
    {
     "name": "stdout",
     "output_type": "stream",
     "text": [
      "It's palindrome\n"
     ]
    }
   ],
   "source": [
    "def is_palindrome(st):\n",
    "    l=len(st)\n",
    "    f=0\n",
    "    e=l-1\n",
    "    flag=0\n",
    "    while(f<e):\n",
    "        if(st[f]!=st[e]):\n",
    "            flag=1\n",
    "            break\n",
    "        else:\n",
    "            f=f+1\n",
    "            e=e-1\n",
    "    if(flag==0):\n",
    "        print(\"It's palindrome\")\n",
    "    else:\n",
    "        print(\"Not palindrome\")\n",
    "        \n",
    "is_palindrome(\"malayalam\")"
   ]
  },
  {
   "cell_type": "code",
   "execution_count": 80,
   "metadata": {},
   "outputs": [
    {
     "name": "stdout",
     "output_type": "stream",
     "text": [
      "0 is not the member of [1, 2, 3, 4]\n"
     ]
    }
   ],
   "source": [
    "def is_member(x,arr):\n",
    "    l=len(arr)\n",
    "    flag=0\n",
    "    for i in range(0,l):\n",
    "        if(x==arr[i]):\n",
    "            flag=1\n",
    "            break\n",
    "    if(flag==0):\n",
    "        print(x,\"is not the member of\",arr)\n",
    "    else:\n",
    "        print(x,\"is the member of\",arr)\n",
    "        \n",
    "is_member(0,[1,2,3,4])"
   ]
  },
  {
   "cell_type": "code",
   "execution_count": 83,
   "metadata": {},
   "outputs": [
    {
     "name": "stdout",
     "output_type": "stream",
     "text": [
      "elements of arr1 [1, 2, 6, 4] is/are overlapping with elements of arr2 [5, 6, 7]\n"
     ]
    }
   ],
   "source": [
    "def is_overlapping(arr1,arr2):\n",
    "    l1=len(arr1)\n",
    "    l2=len(arr2)\n",
    "    flag=0\n",
    "    for i in range(0,l1):\n",
    "        for j in range(0,l2):\n",
    "            if(arr1[i]==arr2[j]):\n",
    "                flag=1\n",
    "                break\n",
    "    if(flag==0):\n",
    "        print(\"elements of arr1\",arr1,\"are not overlapping with elements of arr2\",arr2)\n",
    "    else:\n",
    "        print(\"elements of arr1\",arr1,\"is/are overlapping with elements of arr2\",arr2)\n",
    "        \n",
    "is_overlapping([1,2,6,4],[5,6,7])"
   ]
  },
  {
   "cell_type": "code",
   "execution_count": null,
   "metadata": {},
   "outputs": [],
   "source": []
  }
 ],
 "metadata": {
  "kernelspec": {
   "display_name": "Python 3",
   "language": "python",
   "name": "python3"
  },
  "language_info": {
   "codemirror_mode": {
    "name": "ipython",
    "version": 3
   },
   "file_extension": ".py",
   "mimetype": "text/x-python",
   "name": "python",
   "nbconvert_exporter": "python",
   "pygments_lexer": "ipython3",
   "version": "3.7.3"
  }
 },
 "nbformat": 4,
 "nbformat_minor": 2
}
